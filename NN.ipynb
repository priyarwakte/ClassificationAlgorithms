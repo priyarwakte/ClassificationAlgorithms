{
 "cells": [
  {
   "cell_type": "markdown",
   "id": "ecc5c302",
   "metadata": {},
   "source": [
    "# Data Mining Assignment 2_NN"
   ]
  },
  {
   "cell_type": "markdown",
   "id": "4e6ed629",
   "metadata": {},
   "source": [
    "## Student Details\n",
    "\n",
    "\n",
    "Student Name and ID: Priyanka Wakte 1001886133\n",
    "\n",
    "Notes:\n",
    "When submitting, fill your name and ID in this cell. Note that this is a markdown cell!<br>\n",
    "Do not make any changes in the dataset file and do not rename the 'database.csv'.\n",
    "<br> Rename your submission file to <b> 'yourLastName_Last4digitsofyourID_PA1.ipynb' </b>. \n",
    "<br> Do not to forget to cite any external sources used by you. \n",
    "**10 points per question will be deducted incase you fail to do so**\n",
    "<br>**DO NOT DELETE THIS CELL**<br>\n",
    "#### Please consult the TA before using any other packages apart from sklearn,numpy,pandas, matplotlib and seaborn"
   ]
  },
  {
   "cell_type": "markdown",
   "id": "10b74158",
   "metadata": {},
   "source": [
    "## Programming Assignment Submission Instructions (2 Points)\n",
    "\n",
    "Step 1: Rename this submission file as 'yourLastName_Last4digitsofyourID_DT.ipynb' [1 point]\n",
    "\n",
    "Step 2: Place this file inside the folder 'PA#2_Classification_yourLastName'  [1 point]"
   ]
  },
  {
   "cell_type": "markdown",
   "id": "4410c49a",
   "metadata": {},
   "source": [
    "## Programming Assignment Details (25 Points)\n",
    "\n",
    "For this assignment use Jupyter notebook, Panda, and scikit.\n",
    "\n",
    " * Load pima-indians-diabetes dataset from sklearn datasets. Output/prediction variable is 'class'[1 points]\n",
    " * while selecting best 3 attributes for training,validating and testing your model. [2 points]\n",
    " * Find the best K. [3 points]\n",
    " * Split your dataset - 60% for training set, 20% for Validation set and 20% for testing set the classifier. Use random state as 2022 [2 points]\n",
    " * Use minkowski distance.[1 points]\n",
    " * Test the classifier with three different numbers for neighbors and record the results for training, validation and testing. Show the best one.[3 points]\n",
    " * Use comments to explain your code and variable names.[4 points]\n",
    " * Calculate and print the confusion matrix, and the classification Report (includes:precision, recall, f1-score, and support) for all three different numbers.[6 points]\n",
    " * Plot the classifier in a 2D projection.[3 points]"
   ]
  },
  {
   "cell_type": "markdown",
   "id": "e7f67020",
   "metadata": {},
   "source": [
    "## Report (23 Points)\n",
    "\n",
    "For each classification task you need to submit a report (Microsoft Word, or PDF) that you have to:\n",
    "* Explain all the preprocessing done in detail.[4 points]\n",
    "* Explain all the parameters of KNN in details in your own words. Do not copy paste. Give references. 10 Points will be deducted if you copy paste from the internet. [5 points]\n",
    "* Explain what was your criteria for selecting the three attributes. [5 points]\n",
    "* Visualizations of the classifier in a 2D projection, and write your observations. [4 points]\n",
    "* Interprete and compare the results explain in details.[5 points]\n",
    "\n",
    "Do not to forget to cite your sources!"
   ]
  },
  {
   "cell_type": "code",
   "execution_count": 12,
   "id": "b225c4d6",
   "metadata": {},
   "outputs": [
    {
     "data": {
      "text/html": [
       "<div>\n",
       "<style scoped>\n",
       "    .dataframe tbody tr th:only-of-type {\n",
       "        vertical-align: middle;\n",
       "    }\n",
       "\n",
       "    .dataframe tbody tr th {\n",
       "        vertical-align: top;\n",
       "    }\n",
       "\n",
       "    .dataframe thead th {\n",
       "        text-align: right;\n",
       "    }\n",
       "</style>\n",
       "<table border=\"1\" class=\"dataframe\">\n",
       "  <thead>\n",
       "    <tr style=\"text-align: right;\">\n",
       "      <th></th>\n",
       "      <th>Preg</th>\n",
       "      <th>Plas</th>\n",
       "      <th>Pres</th>\n",
       "      <th>skin</th>\n",
       "      <th>test</th>\n",
       "      <th>mass</th>\n",
       "      <th>pedi</th>\n",
       "      <th>age</th>\n",
       "      <th>class</th>\n",
       "    </tr>\n",
       "  </thead>\n",
       "  <tbody>\n",
       "    <tr>\n",
       "      <th>0</th>\n",
       "      <td>6</td>\n",
       "      <td>148</td>\n",
       "      <td>72</td>\n",
       "      <td>35</td>\n",
       "      <td>0</td>\n",
       "      <td>33.6</td>\n",
       "      <td>0.627</td>\n",
       "      <td>50</td>\n",
       "      <td>1</td>\n",
       "    </tr>\n",
       "    <tr>\n",
       "      <th>1</th>\n",
       "      <td>1</td>\n",
       "      <td>85</td>\n",
       "      <td>66</td>\n",
       "      <td>29</td>\n",
       "      <td>0</td>\n",
       "      <td>26.6</td>\n",
       "      <td>0.351</td>\n",
       "      <td>31</td>\n",
       "      <td>0</td>\n",
       "    </tr>\n",
       "    <tr>\n",
       "      <th>2</th>\n",
       "      <td>8</td>\n",
       "      <td>183</td>\n",
       "      <td>64</td>\n",
       "      <td>0</td>\n",
       "      <td>0</td>\n",
       "      <td>23.3</td>\n",
       "      <td>0.672</td>\n",
       "      <td>32</td>\n",
       "      <td>1</td>\n",
       "    </tr>\n",
       "    <tr>\n",
       "      <th>3</th>\n",
       "      <td>1</td>\n",
       "      <td>89</td>\n",
       "      <td>66</td>\n",
       "      <td>23</td>\n",
       "      <td>94</td>\n",
       "      <td>28.1</td>\n",
       "      <td>0.167</td>\n",
       "      <td>21</td>\n",
       "      <td>0</td>\n",
       "    </tr>\n",
       "    <tr>\n",
       "      <th>4</th>\n",
       "      <td>0</td>\n",
       "      <td>137</td>\n",
       "      <td>40</td>\n",
       "      <td>35</td>\n",
       "      <td>168</td>\n",
       "      <td>43.1</td>\n",
       "      <td>2.288</td>\n",
       "      <td>33</td>\n",
       "      <td>1</td>\n",
       "    </tr>\n",
       "    <tr>\n",
       "      <th>...</th>\n",
       "      <td>...</td>\n",
       "      <td>...</td>\n",
       "      <td>...</td>\n",
       "      <td>...</td>\n",
       "      <td>...</td>\n",
       "      <td>...</td>\n",
       "      <td>...</td>\n",
       "      <td>...</td>\n",
       "      <td>...</td>\n",
       "    </tr>\n",
       "    <tr>\n",
       "      <th>763</th>\n",
       "      <td>10</td>\n",
       "      <td>101</td>\n",
       "      <td>76</td>\n",
       "      <td>48</td>\n",
       "      <td>180</td>\n",
       "      <td>32.9</td>\n",
       "      <td>0.171</td>\n",
       "      <td>63</td>\n",
       "      <td>0</td>\n",
       "    </tr>\n",
       "    <tr>\n",
       "      <th>764</th>\n",
       "      <td>2</td>\n",
       "      <td>122</td>\n",
       "      <td>70</td>\n",
       "      <td>27</td>\n",
       "      <td>0</td>\n",
       "      <td>36.8</td>\n",
       "      <td>0.340</td>\n",
       "      <td>27</td>\n",
       "      <td>0</td>\n",
       "    </tr>\n",
       "    <tr>\n",
       "      <th>765</th>\n",
       "      <td>5</td>\n",
       "      <td>121</td>\n",
       "      <td>72</td>\n",
       "      <td>23</td>\n",
       "      <td>112</td>\n",
       "      <td>26.2</td>\n",
       "      <td>0.245</td>\n",
       "      <td>30</td>\n",
       "      <td>0</td>\n",
       "    </tr>\n",
       "    <tr>\n",
       "      <th>766</th>\n",
       "      <td>1</td>\n",
       "      <td>126</td>\n",
       "      <td>60</td>\n",
       "      <td>0</td>\n",
       "      <td>0</td>\n",
       "      <td>30.1</td>\n",
       "      <td>0.349</td>\n",
       "      <td>47</td>\n",
       "      <td>1</td>\n",
       "    </tr>\n",
       "    <tr>\n",
       "      <th>767</th>\n",
       "      <td>1</td>\n",
       "      <td>93</td>\n",
       "      <td>70</td>\n",
       "      <td>31</td>\n",
       "      <td>0</td>\n",
       "      <td>30.4</td>\n",
       "      <td>0.315</td>\n",
       "      <td>23</td>\n",
       "      <td>0</td>\n",
       "    </tr>\n",
       "  </tbody>\n",
       "</table>\n",
       "<p>768 rows × 9 columns</p>\n",
       "</div>"
      ],
      "text/plain": [
       "     Preg  Plas  Pres  skin  test  mass   pedi  age  class\n",
       "0       6   148    72    35     0  33.6  0.627   50      1\n",
       "1       1    85    66    29     0  26.6  0.351   31      0\n",
       "2       8   183    64     0     0  23.3  0.672   32      1\n",
       "3       1    89    66    23    94  28.1  0.167   21      0\n",
       "4       0   137    40    35   168  43.1  2.288   33      1\n",
       "..    ...   ...   ...   ...   ...   ...    ...  ...    ...\n",
       "763    10   101    76    48   180  32.9  0.171   63      0\n",
       "764     2   122    70    27     0  36.8  0.340   27      0\n",
       "765     5   121    72    23   112  26.2  0.245   30      0\n",
       "766     1   126    60     0     0  30.1  0.349   47      1\n",
       "767     1    93    70    31     0  30.4  0.315   23      0\n",
       "\n",
       "[768 rows x 9 columns]"
      ]
     },
     "execution_count": 12,
     "metadata": {},
     "output_type": "execute_result"
    }
   ],
   "source": [
    "import pandas as pd\n",
    "import numpy as np\n",
    "import seaborn as sns\n",
    "import matplotlib.pyplot as plt\n",
    "from sklearn.feature_selection import SelectKBest\n",
    "from sklearn.feature_selection import chi2\n",
    "# loading prima dataset\n",
    "df_pima = pd.read_csv(\"pima-indians-diabetes.csv\")\n",
    "df_pima"
   ]
  },
  {
   "cell_type": "code",
   "execution_count": 13,
   "id": "57e9c36d",
   "metadata": {},
   "outputs": [
    {
     "data": {
      "text/plain": [
       "Preg     0\n",
       "Plas     0\n",
       "Pres     0\n",
       "skin     0\n",
       "test     0\n",
       "mass     0\n",
       "pedi     0\n",
       "age      0\n",
       "class    0\n",
       "dtype: int64"
      ]
     },
     "execution_count": 13,
     "metadata": {},
     "output_type": "execute_result"
    }
   ],
   "source": [
    "# we need to find the missing values in the columns as part of pre-processing\n",
    "df.isnull().sum()"
   ]
  },
  {
   "cell_type": "code",
   "execution_count": 14,
   "id": "8903ba04",
   "metadata": {},
   "outputs": [],
   "source": [
    "# we can drop the columns that are not relavant\n",
    "# drop_col is the variable that drops the irrelevant columns\n",
    "drop_colu = ['Preg', 'skin']\n",
    "df = df.drop(drop_col, axis=1)"
   ]
  },
  {
   "cell_type": "code",
   "execution_count": 15,
   "id": "3e5fd620",
   "metadata": {},
   "outputs": [
    {
     "data": {
      "text/html": [
       "<div>\n",
       "<style scoped>\n",
       "    .dataframe tbody tr th:only-of-type {\n",
       "        vertical-align: middle;\n",
       "    }\n",
       "\n",
       "    .dataframe tbody tr th {\n",
       "        vertical-align: top;\n",
       "    }\n",
       "\n",
       "    .dataframe thead th {\n",
       "        text-align: right;\n",
       "    }\n",
       "</style>\n",
       "<table border=\"1\" class=\"dataframe\">\n",
       "  <thead>\n",
       "    <tr style=\"text-align: right;\">\n",
       "      <th></th>\n",
       "      <th>Plas</th>\n",
       "      <th>Pres</th>\n",
       "      <th>test</th>\n",
       "      <th>mass</th>\n",
       "      <th>pedi</th>\n",
       "      <th>age</th>\n",
       "      <th>class</th>\n",
       "    </tr>\n",
       "  </thead>\n",
       "  <tbody>\n",
       "    <tr>\n",
       "      <th>0</th>\n",
       "      <td>148</td>\n",
       "      <td>72</td>\n",
       "      <td>0</td>\n",
       "      <td>33.6</td>\n",
       "      <td>0.627</td>\n",
       "      <td>50</td>\n",
       "      <td>1</td>\n",
       "    </tr>\n",
       "    <tr>\n",
       "      <th>1</th>\n",
       "      <td>85</td>\n",
       "      <td>66</td>\n",
       "      <td>0</td>\n",
       "      <td>26.6</td>\n",
       "      <td>0.351</td>\n",
       "      <td>31</td>\n",
       "      <td>0</td>\n",
       "    </tr>\n",
       "    <tr>\n",
       "      <th>2</th>\n",
       "      <td>183</td>\n",
       "      <td>64</td>\n",
       "      <td>0</td>\n",
       "      <td>23.3</td>\n",
       "      <td>0.672</td>\n",
       "      <td>32</td>\n",
       "      <td>1</td>\n",
       "    </tr>\n",
       "    <tr>\n",
       "      <th>3</th>\n",
       "      <td>89</td>\n",
       "      <td>66</td>\n",
       "      <td>94</td>\n",
       "      <td>28.1</td>\n",
       "      <td>0.167</td>\n",
       "      <td>21</td>\n",
       "      <td>0</td>\n",
       "    </tr>\n",
       "    <tr>\n",
       "      <th>4</th>\n",
       "      <td>137</td>\n",
       "      <td>40</td>\n",
       "      <td>168</td>\n",
       "      <td>43.1</td>\n",
       "      <td>2.288</td>\n",
       "      <td>33</td>\n",
       "      <td>1</td>\n",
       "    </tr>\n",
       "    <tr>\n",
       "      <th>5</th>\n",
       "      <td>116</td>\n",
       "      <td>74</td>\n",
       "      <td>0</td>\n",
       "      <td>25.6</td>\n",
       "      <td>0.201</td>\n",
       "      <td>30</td>\n",
       "      <td>0</td>\n",
       "    </tr>\n",
       "    <tr>\n",
       "      <th>6</th>\n",
       "      <td>78</td>\n",
       "      <td>50</td>\n",
       "      <td>88</td>\n",
       "      <td>31.0</td>\n",
       "      <td>0.248</td>\n",
       "      <td>26</td>\n",
       "      <td>1</td>\n",
       "    </tr>\n",
       "    <tr>\n",
       "      <th>7</th>\n",
       "      <td>115</td>\n",
       "      <td>0</td>\n",
       "      <td>0</td>\n",
       "      <td>35.3</td>\n",
       "      <td>0.134</td>\n",
       "      <td>29</td>\n",
       "      <td>0</td>\n",
       "    </tr>\n",
       "    <tr>\n",
       "      <th>8</th>\n",
       "      <td>197</td>\n",
       "      <td>70</td>\n",
       "      <td>543</td>\n",
       "      <td>30.5</td>\n",
       "      <td>0.158</td>\n",
       "      <td>53</td>\n",
       "      <td>1</td>\n",
       "    </tr>\n",
       "    <tr>\n",
       "      <th>9</th>\n",
       "      <td>125</td>\n",
       "      <td>96</td>\n",
       "      <td>0</td>\n",
       "      <td>0.0</td>\n",
       "      <td>0.232</td>\n",
       "      <td>54</td>\n",
       "      <td>1</td>\n",
       "    </tr>\n",
       "  </tbody>\n",
       "</table>\n",
       "</div>"
      ],
      "text/plain": [
       "   Plas  Pres  test  mass   pedi  age  class\n",
       "0   148    72     0  33.6  0.627   50      1\n",
       "1    85    66     0  26.6  0.351   31      0\n",
       "2   183    64     0  23.3  0.672   32      1\n",
       "3    89    66    94  28.1  0.167   21      0\n",
       "4   137    40   168  43.1  2.288   33      1\n",
       "5   116    74     0  25.6  0.201   30      0\n",
       "6    78    50    88  31.0  0.248   26      1\n",
       "7   115     0     0  35.3  0.134   29      0\n",
       "8   197    70   543  30.5  0.158   53      1\n",
       "9   125    96     0   0.0  0.232   54      1"
      ]
     },
     "execution_count": 15,
     "metadata": {},
     "output_type": "execute_result"
    }
   ],
   "source": [
    "# Displaying the first 10 rows after removing the columns that are not relavant \n",
    "df.head(10)"
   ]
  },
  {
   "cell_type": "code",
   "execution_count": 53,
   "id": "ea03b09b",
   "metadata": {},
   "outputs": [
    {
     "data": {
      "image/png": "[encoded data removed]",
      "text/plain": [
       "<Figure size 864x720 with 2 Axes>"
      ]
     },
     "metadata": {
      "needs_background": "light"
     },
     "output_type": "display_data"
    }
   ],
   "source": [
    "#We can use Pearson Correlation\n",
    "plt.figure(figsize=(12,10))\n",
    "correlation = df.corr()\n",
    "sns.heatmap(correlation, annot=True, cmap=plt.cm.Blues)\n",
    "plt.show()"
   ]
  },
  {
   "cell_type": "code",
   "execution_count": 18,
   "id": "61db02ca",
   "metadata": {},
   "outputs": [
    {
     "data": {
      "text/plain": [
       "Plas     0.466581\n",
       "Pres     0.065068\n",
       "test     0.130548\n",
       "mass     0.292695\n",
       "pedi     0.173844\n",
       "age      0.238356\n",
       "class    1.000000\n",
       "Name: class, dtype: float64"
      ]
     },
     "execution_count": 18,
     "metadata": {},
     "output_type": "execute_result"
    }
   ],
   "source": [
    "#Correlation with output variable\n",
    "corr_target = abs(cor[\"class\"])\n",
    "#Selecting highly correlated features\n",
    "relevant_features = corr_target[corr_target>0]\n",
    "relevant_features"
   ]
  },
  {
   "cell_type": "code",
   "execution_count": 19,
   "id": "8113c0e7",
   "metadata": {},
   "outputs": [],
   "source": [
    "#Moving the target variable to the last column\n",
    "df['class'] = df.pop('class') \n",
    "X = df.iloc[:, :-1]\n",
    "y = df.iloc[:, -1]"
   ]
  },
  {
   "cell_type": "code",
   "execution_count": 23,
   "id": "af0ed358",
   "metadata": {},
   "outputs": [
    {
     "name": "stdout",
     "output_type": "stream",
     "text": [
      "  Attributes        Score\n",
      "2       test  2175.565273\n",
      "0       Plas  1411.887041\n",
      "5        age   181.303689\n",
      "3       mass   127.669343\n",
      "1       Pres    17.605373\n",
      "4       pedi     5.392682\n"
     ]
    }
   ],
   "source": [
    "#Now we should select the 3 best attributes from the 6 other attributes\n",
    "score_func = SelectKBest(score_func=chi2, k='all').fit(X,y)\n",
    "df_score = pd.DataFrame(score_func.scores_)\n",
    "df_column = pd.DataFrame(X.columns)\n",
    "# Concatenating two df_score and df_column to view the scores of corresponding columns \n",
    "feature_score = pd.concat([df_column,df_score],axis=1)\n",
    "feature_score.columns = ['Attributes','Score']\n",
    "# Print 6 best features\n",
    "print(feature_score.nlargest(6,'Score'))"
   ]
  },
  {
   "cell_type": "code",
   "execution_count": 24,
   "id": "5f87129c",
   "metadata": {},
   "outputs": [
    {
     "name": "stdout",
     "output_type": "stream",
     "text": [
      "     Plas  mass  age\n",
      "0     148  33.6   50\n",
      "1      85  26.6   31\n",
      "2     183  23.3   32\n",
      "3      89  28.1   21\n",
      "4     137  43.1   33\n",
      "..    ...   ...  ...\n",
      "763   101  32.9   63\n",
      "764   122  36.8   27\n",
      "765   121  26.2   30\n",
      "766   126  30.1   47\n",
      "767    93  30.4   23\n",
      "\n",
      "[768 rows x 3 columns]\n",
      "0      1\n",
      "1      0\n",
      "2      1\n",
      "3      0\n",
      "4      1\n",
      "      ..\n",
      "763    0\n",
      "764    0\n",
      "765    0\n",
      "766    1\n",
      "767    0\n",
      "Name: class, Length: 768, dtype: int64\n"
     ]
    }
   ],
   "source": [
    "#Now We drop the columns that are not best 3 to train and test our model\n",
    "\n",
    "drop_column_3 = ['Pres', 'test', 'pedi']\n",
    "df = df.drop(drop_column_3, axis=1)\n",
    "X = X.drop(drop_column_3, axis=1)\n",
    "print(X)\n",
    "print(y)"
   ]
  },
  {
   "cell_type": "code",
   "execution_count": 25,
   "id": "29936e8f",
   "metadata": {},
   "outputs": [],
   "source": [
    "# for testing set\n",
    "from sklearn.model_selection import train_test_split\n",
    "X1_train, X_test, y1_train, y_test = train_test_split(X, y, test_size = 0.20, random_state = 2022)"
   ]
  },
  {
   "cell_type": "code",
   "execution_count": 26,
   "id": "eb50987f",
   "metadata": {},
   "outputs": [],
   "source": [
    "# for validation set\n",
    "from sklearn.model_selection import train_test_split\n",
    "X_train, X_val, y_train, y_val = train_test_split(X1_train, y1_train, test_size = 0.20, random_state = 2022)"
   ]
  },
  {
   "cell_type": "code",
   "execution_count": 27,
   "id": "de4383bb",
   "metadata": {},
   "outputs": [],
   "source": [
    "from sklearn.preprocessing import MinMaxScaler\n",
    "sc = MinMaxScaler()\n",
    "X_train = sc.fit_transform(X_train)\n",
    "X_test = sc.transform(X_test)"
   ]
  },
  {
   "cell_type": "code",
   "execution_count": 28,
   "id": "c068e500",
   "metadata": {},
   "outputs": [],
   "source": [
    "from sklearn.neighbors import KNeighborsClassifier"
   ]
  },
  {
   "cell_type": "code",
   "execution_count": 29,
   "id": "b97c6e79",
   "metadata": {},
   "outputs": [
    {
     "data": {
      "text/plain": [
       "KNeighborsClassifier(n_neighbors=24)"
      ]
     },
     "execution_count": 29,
     "metadata": {},
     "output_type": "execute_result"
    }
   ],
   "source": [
    "# Using minkowski distance.\n",
    "classifier1 = KNeighborsClassifier(n_neighbors = 5, metric = 'minkowski')\n",
    "classifier1.fit(X_train, y_train)\n",
    "\n",
    "classifier2 = KNeighborsClassifier(n_neighbors = 10, metric = 'minkowski')\n",
    "classifier2.fit(X_train, y_train)\n",
    "\n",
    "classifier3 = KNeighborsClassifier(n_neighbors = 24, metric = 'minkowski')\n",
    "classifier3.fit(X_train, y_train)"
   ]
  },
  {
   "cell_type": "code",
   "execution_count": 30,
   "id": "7402f5d4",
   "metadata": {},
   "outputs": [],
   "source": [
    "# y1,y2 and y3 are the prediction variables\n",
    "y1 = classifier1.predict(X_test)\n",
    "y2 = classifier2.predict(X_test)\n",
    "y3 = classifier3.predict(X_test)"
   ]
  },
  {
   "cell_type": "code",
   "execution_count": 33,
   "id": "7bb5c309",
   "metadata": {},
   "outputs": [
    {
     "name": "stdout",
     "output_type": "stream",
     "text": [
      "Confusion Matrix for K = 5\n",
      " 0.7467532467532467\n",
      "[[94 14]\n",
      " [25 21]]\n",
      "Confusion Matrix for K = 10\n",
      " 0.7727272727272727\n",
      "[[98 10]\n",
      " [25 21]]\n",
      "Confusion Matrix for K = 24\n",
      " 0.7792207792207793\n",
      "[[97 11]\n",
      " [23 23]]\n"
     ]
    }
   ],
   "source": [
    "#Variables and code to get confusion matrix for different y values\n",
    "from sklearn.metrics import confusion_matrix, accuracy_score\n",
    "cm_1 = confusion_matrix(y_test, y1)\n",
    "accuracy_score(y_test, y1)\n",
    "\n",
    "from sklearn.metrics import confusion_matrix, accuracy_score\n",
    "cm_2 = confusion_matrix(y_test, y2)\n",
    "accuracy_score(y_test, y2)\n",
    "\n",
    "from sklearn.metrics import confusion_matrix, accuracy_score\n",
    "cm_3 = confusion_matrix(y_test, y3)\n",
    "accuracy_score(y_test, y3)\n",
    "\n",
    "print(\"Confusion Matrix for K = 5\\n\", accuracy_score(y_test, y1))\n",
    "print(cm_1)\n",
    "print(\"Confusion Matrix for K = 10\\n\", accuracy_score(y_test, y2))\n",
    "print(cm_2)\n",
    "print(\"Confusion Matrix for K = 24\\n\", accuracy_score(y_test, y3))\n",
    "print(cm_3)"
   ]
  },
  {
   "cell_type": "code",
   "execution_count": 34,
   "id": "d193c239",
   "metadata": {},
   "outputs": [
    {
     "name": "stdout",
     "output_type": "stream",
     "text": [
      "Classification Report for K =5\n",
      "               precision    recall  f1-score   support\n",
      "\n",
      "           0       0.79      0.87      0.83       108\n",
      "           1       0.60      0.46      0.52        46\n",
      "\n",
      "    accuracy                           0.75       154\n",
      "   macro avg       0.69      0.66      0.67       154\n",
      "weighted avg       0.73      0.75      0.74       154\n",
      "\n",
      "Classification Report for K =10\n",
      "               precision    recall  f1-score   support\n",
      "\n",
      "           0       0.80      0.91      0.85       108\n",
      "           1       0.68      0.46      0.55        46\n",
      "\n",
      "    accuracy                           0.77       154\n",
      "   macro avg       0.74      0.68      0.70       154\n",
      "weighted avg       0.76      0.77      0.76       154\n",
      "\n",
      "Classification Report for K =24\n",
      "               precision    recall  f1-score   support\n",
      "\n",
      "           0       0.81      0.90      0.85       108\n",
      "           1       0.68      0.50      0.58        46\n",
      "\n",
      "    accuracy                           0.78       154\n",
      "   macro avg       0.74      0.70      0.71       154\n",
      "weighted avg       0.77      0.78      0.77       154\n",
      "\n"
     ]
    }
   ],
   "source": [
    "#now getting the classification report\n",
    "from sklearn.metrics import classification_report\n",
    "print(\"Classification Report for K =5\\n\", classification_report(y_test, y1))\n",
    "print(\"Classification Report for K =10\\n\", classification_report(y_test, y2))\n",
    "print(\"Classification Report for K =24\\n\", classification_report(y_test, y3))"
   ]
  },
  {
   "cell_type": "code",
   "execution_count": 37,
   "id": "8c5e4349",
   "metadata": {},
   "outputs": [
    {
     "data": {
      "image/png": "[encoded data removed]",
      "text/plain": [
       "<Figure size 432x288 with 1 Axes>"
      ]
     },
     "metadata": {
      "needs_background": "light"
     },
     "output_type": "display_data"
    },
    {
     "name": "stdout",
     "output_type": "stream",
     "text": [
      "[0.69480519 0.74025974 0.73376623 0.75324675 0.74675325 0.75974026\n",
      " 0.75974026 0.76623377 0.77922078 0.77272727 0.77272727 0.78571429\n",
      " 0.77922078 0.79220779 0.80519481 0.80519481 0.79220779 0.7987013\n",
      " 0.78571429 0.79220779 0.78571429 0.79220779 0.78571429 0.77922078\n",
      " 0.79220779 0.77272727 0.77922078 0.76623377 0.78571429 0.76623377]\n"
     ]
    }
   ],
   "source": [
    "#plotting graph for accuracy and its rate\n",
    "from sklearn import metrics\n",
    "accuracy_rate=np.zeros(30)\n",
    "for n in range(1,31):\n",
    "    knn_accu=KNeighborsClassifier(n_neighbors=n)\n",
    "    knn_accu.fit(X_train,y_train)\n",
    "    pred_accu = knn_accu.predict(X_test)\n",
    "    accuracy_rate[n-1]=metrics.accuracy_score(y_test, pred_accu)\n",
    "    \n",
    "plt.plot(range(1,31),accuracy_rate,color='black', marker='o', markerfacecolor='green', markersize=8)\n",
    "plt.title('Accuracy Rate vs K')\n",
    "plt.xlabel('K')\n",
    "plt.ylabel('Accuracy Rate')\n",
    "plt.show()\n",
    "print(accuracy_rate)"
   ]
  },
  {
   "cell_type": "code",
   "execution_count": 41,
   "id": "7fb4ce76",
   "metadata": {},
   "outputs": [
    {
     "data": {
      "image/png": "[encoded data removed]",
      "text/plain": [
       "<Figure size 762.375x360 with 1 Axes>"
      ]
     },
     "metadata": {
      "needs_background": "light"
     },
     "output_type": "display_data"
    }
   ],
   "source": [
    "survived_count = sns.catplot(x=\"age\", hue=\"class\",\n",
    "                data=df, kind=\"count\",\n",
    "                height=5, aspect=2);"
   ]
  },
  {
   "cell_type": "code",
   "execution_count": 48,
   "id": "5d906a24",
   "metadata": {},
   "outputs": [
    {
     "data": {
      "image/png": "[encoded data removed]",
      "text/plain": [
       "<Figure size 432x288 with 1 Axes>"
      ]
     },
     "metadata": {
      "needs_background": "light"
     },
     "output_type": "display_data"
    }
   ],
   "source": [
    "ax = sns.violinplot(x=\"class\", y=\"Plas\", data=df,\n",
    "                    inner=None, color=\"red\")\n",
    "ax = sns.stripplot(x=\"class\", y=\"Plas\", data=df)"
   ]
  },
  {
   "cell_type": "code",
   "execution_count": null,
   "id": "4bbbb2dd",
   "metadata": {},
   "outputs": [],
   "source": []
  },
  {
   "cell_type": "code",
   "execution_count": 47,
   "id": "3d7b2e20",
   "metadata": {},
   "outputs": [
    {
     "data": {
      "image/png": "[encoded data removed]",
      "text/plain": [
       "<Figure size 432x288 with 1 Axes>"
      ]
     },
     "metadata": {
      "needs_background": "light"
     },
     "output_type": "display_data"
    }
   ],
   "source": [
    "ax = sns.stripplot(x=\"age\", y=\"Plas\", hue=\"class\", data=df, dodge=True)"
   ]
  }
 ],
 "metadata": {
  "kernelspec": {
   "display_name": "Python 3 (ipykernel)",
   "language": "python",
   "name": "python3"
  },
  "language_info": {
   "codemirror_mode": {
    "name": "ipython",
    "version": 3
   },
   "file_extension": ".py",
   "mimetype": "text/x-python",
   "name": "python",
   "nbconvert_exporter": "python",
   "pygments_lexer": "ipython3",
   "version": "3.9.7"
  }
 },
 "nbformat": 4,
 "nbformat_minor": 5
}
